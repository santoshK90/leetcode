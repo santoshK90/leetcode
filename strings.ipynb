{
 "cells": [
  {
   "cell_type": "code",
   "execution_count": 1,
   "id": "78222f1a-c52f-4181-abed-85e63038dd29",
   "metadata": {},
   "outputs": [],
   "source": [
    "# String experimentation"
   ]
  },
  {
   "cell_type": "code",
   "execution_count": 2,
   "id": "5af6286e-9449-455c-ab2f-61c94edc97e9",
   "metadata": {},
   "outputs": [],
   "source": [
    "# concatenate 3 string without using inbuilt functions"
   ]
  },
  {
   "cell_type": "code",
   "execution_count": 3,
   "id": "5202815a-c7ea-40ca-a779-39dd08245a81",
   "metadata": {},
   "outputs": [],
   "source": [
    "a = 'hello'\n",
    "b = 'namaste'\n",
    "c = 'pranaam'"
   ]
  },
  {
   "cell_type": "code",
   "execution_count": 11,
   "id": "788a75e2-65d6-4ac9-a9aa-d0336a4bff6f",
   "metadata": {},
   "outputs": [],
   "source": [
    "\n",
    "def concat(a,b,c):\n",
    "    d = ''\n",
    "    for i in a:\n",
    "        d = d+i\n",
    "    for i in b:\n",
    "        d = d+i\n",
    "    for i in c:\n",
    "        d = d+i\n",
    "    return d\n"
   ]
  },
  {
   "cell_type": "code",
   "execution_count": 12,
   "id": "7af9b5f8-42e9-4280-aa38-5ae9f31c5c33",
   "metadata": {},
   "outputs": [],
   "source": [
    "d = concat(a,b,c)"
   ]
  },
  {
   "cell_type": "code",
   "execution_count": 13,
   "id": "8e3e7556-0c5d-4eb3-bffe-d93c1fd3fda8",
   "metadata": {},
   "outputs": [
    {
     "data": {
      "text/plain": [
       "'hellonamastepranaam'"
      ]
     },
     "execution_count": 13,
     "metadata": {},
     "output_type": "execute_result"
    }
   ],
   "source": [
    "d"
   ]
  },
  {
   "cell_type": "code",
   "execution_count": null,
   "id": "ef83df91-64f0-4bd4-8459-09d824aae580",
   "metadata": {},
   "outputs": [],
   "source": [
    "# find string in another string"
   ]
  },
  {
   "cell_type": "code",
   "execution_count": null,
   "id": "26dc6964-ee44-4b48-aa0f-d27afc2e0a22",
   "metadata": {},
   "outputs": [],
   "source": [
    "a = 'aabbabaabababcfdfndsfifdaab'\n",
    "find = 'aab'"
   ]
  },
  {
   "cell_type": "code",
   "execution_count": 30,
   "id": "08fe7de3-93c7-4d82-bedf-ff535130cda1",
   "metadata": {},
   "outputs": [
    {
     "name": "stdout",
     "output_type": "stream",
     "text": [
      "starting at 0 ending at 2\n",
      "aab\n",
      "pattern not found in string\n",
      "pattern not found in string\n",
      "pattern not found in string\n",
      "pattern not found in string\n",
      "pattern not found in string\n",
      "starting at 6 ending at 8\n",
      "aab\n",
      "pattern not found in string\n",
      "pattern not found in string\n",
      "pattern not found in string\n",
      "pattern not found in string\n",
      "pattern not found in string\n",
      "pattern not found in string\n",
      "pattern not found in string\n",
      "pattern not found in string\n",
      "pattern not found in string\n",
      "pattern not found in string\n",
      "pattern not found in string\n",
      "pattern not found in string\n",
      "pattern not found in string\n",
      "pattern not found in string\n",
      "pattern not found in string\n",
      "pattern not found in string\n",
      "pattern not found in string\n",
      "starting at 24 ending at 26\n",
      "aab\n"
     ]
    }
   ],
   "source": [
    "len_find = len(find)\n",
    "len_a = len(a)\n",
    "for i in range(0,len_a - 2,1):\n",
    "    if find == (a[i] + a[i+1] + a[i+2]):\n",
    "        print(f'starting at {i} ending at {i+2}')\n",
    "        print(a[i] + a[i+1] + a[i+2])\n",
    "    else:\n",
    "        print('pattern not found in string')"
   ]
  },
  {
   "cell_type": "code",
   "execution_count": null,
   "id": "4085576d-f593-4b4e-b168-ced97f172b9e",
   "metadata": {},
   "outputs": [],
   "source": [
    "# replace string of match found"
   ]
  },
  {
   "cell_type": "code",
   "execution_count": null,
   "id": "77af5e43-18b2-404a-9c2f-e8a49498f699",
   "metadata": {},
   "outputs": [],
   "source": [
    "len_find = len(find)\n",
    "len_a = len(a)\n",
    "replacement_str = 'REPLACE'\n",
    "len_replace = len(replacement_str)\n",
    "for i in range(0,len_a - 2,1):\n",
    "    if find == (a[i] + a[i+1] + a[i+2]):\n",
    "        print(f'starting at {i} ending at {i+2}')\n",
    "        print(a[i] + a[i+1] + a[i+2])\n",
    "        \n",
    "    else:\n",
    "        print('pattern not found in string')"
   ]
  },
  {
   "cell_type": "code",
   "execution_count": null,
   "id": "f1353bd3-347c-4438-9e2c-d540c6a1deea",
   "metadata": {},
   "outputs": [],
   "source": [
    "# find all subsequence"
   ]
  },
  {
   "cell_type": "code",
   "execution_count": 16,
   "id": "1a781a7b-6b66-47fc-85f8-6b881438afc5",
   "metadata": {},
   "outputs": [],
   "source": [
    "# pattern matching"
   ]
  },
  {
   "cell_type": "code",
   "execution_count": 19,
   "id": "5f120f9f-b31c-4abd-b548-64d52b4133b4",
   "metadata": {},
   "outputs": [],
   "source": [
    "a = 'aabbabaabababcfdfndsfifdaab'\n",
    "find = 'aab'"
   ]
  },
  {
   "cell_type": "code",
   "execution_count": null,
   "id": "0a608968-9551-475b-a984-79305f3c43ec",
   "metadata": {},
   "outputs": [],
   "source": [
    "# Palindrome match sequence in realtime using windowing"
   ]
  },
  {
   "cell_type": "code",
   "execution_count": null,
   "id": "a9e2cf99-0a11-420a-a36e-190af2f2a7a5",
   "metadata": {},
   "outputs": [],
   "source": [
    "# tokenization and cleaning of stop works"
   ]
  },
  {
   "cell_type": "code",
   "execution_count": null,
   "id": "48503390-91aa-46cf-bf47-06480cb3b8ea",
   "metadata": {},
   "outputs": [],
   "source": [
    "# develop n-grams"
   ]
  }
 ],
 "metadata": {
  "kernelspec": {
   "display_name": "Python 3 (ipykernel)",
   "language": "python",
   "name": "python3"
  },
  "language_info": {
   "codemirror_mode": {
    "name": "ipython",
    "version": 3
   },
   "file_extension": ".py",
   "mimetype": "text/x-python",
   "name": "python",
   "nbconvert_exporter": "python",
   "pygments_lexer": "ipython3",
   "version": "3.11.7"
  }
 },
 "nbformat": 4,
 "nbformat_minor": 5
}
